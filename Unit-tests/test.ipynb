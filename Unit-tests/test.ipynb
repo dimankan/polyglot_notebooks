{
 "cells": [
  {
   "cell_type": "markdown",
   "metadata": {},
   "source": [
    "# Введение в xUnit с использованием C#\n",
    "\n",
    "В этом блокноте мы рассмотрим, как использовать библиотеку `xUnit` для написания и выполнения тестов на языке C#. `xUnit` является популярной библиотекой для модульного тестирования в экосистеме .NET."
   ]
  },
  {
   "cell_type": "markdown",
   "metadata": {},
   "source": [
    "## 1. Создание тестируемого кода\n",
    "\n",
    "Начнем с написания простой функции на C#, которую мы будем тестировать. Пусть это будет метод, который проверяет, является ли число четным."
   ]
  },
  {
   "cell_type": "code",
   "execution_count": 2,
   "metadata": {
    "dotnet_interactive": {
     "language": "csharp"
    },
    "polyglot_notebook": {
     "kernelName": "csharp"
    },
    "vscode": {
     "languageId": "polyglot-notebook"
    }
   },
   "outputs": [],
   "source": [
    "public class MathOperations\n",
    "{\n",
    "    public bool IsEven(int number)\n",
    "    {\n",
    "        return number % 2 == 0;\n",
    "    }\n",
    "}"
   ]
  },
  {
   "cell_type": "code",
   "execution_count": 3,
   "metadata": {
    "dotnet_interactive": {
     "language": "csharp"
    },
    "polyglot_notebook": {
     "kernelName": "csharp"
    },
    "vscode": {
     "languageId": "polyglot-notebook"
    }
   },
   "outputs": [
    {
     "data": {
      "text/html": [
       "<div><div></div><div></div><div><strong>Installed Packages</strong><ul><li><span>xUnit, 2.9.2</span></li></ul></div></div>"
      ]
     },
     "metadata": {},
     "output_type": "display_data"
    }
   ],
   "source": [
    "#r \"nuget: xUnit\""
   ]
  },
  {
   "cell_type": "markdown",
   "metadata": {},
   "source": [
    "## 2. Написание тестов с использованием xUnit\n",
    "\n",
    "Теперь мы напишем тесты для нашего метода `IsEven`. Для этого мы создадим тестовый класс и определим тестовые методы внутри этого класса."
   ]
  },
  {
   "cell_type": "code",
   "execution_count": 6,
   "metadata": {
    "dotnet_interactive": {
     "language": "csharp"
    },
    "polyglot_notebook": {
     "kernelName": "csharp"
    },
    "vscode": {
     "languageId": "polyglot-notebook"
    }
   },
   "outputs": [],
   "source": [
    "using Xunit;\n",
    "\n",
    "public class MathOperationsTests\n",
    "{\n",
    "    [Fact]\n",
    "    public void IsEven_WithEvenNumber_ReturnsTrue()\n",
    "    {\n",
    "        var mathOperations = new MathOperations();\n",
    "        Assert.True(mathOperations.IsEven(4));\n",
    "        Assert.True(mathOperations.IsEven(0));\n",
    "        Assert.True(mathOperations.IsEven(-2));\n",
    "    }\n",
    "\n",
    "    [Fact]\n",
    "    public void IsEven_WithOddNumber_ReturnsFalse()\n",
    "    {\n",
    "        var mathOperations = new MathOperations();\n",
    "        Assert.False(mathOperations.IsEven(3));\n",
    "        Assert.False(mathOperations.IsEven(1));\n",
    "        Assert.False(mathOperations.IsEven(-1));\n",
    "    }\n",
    "}"
   ]
  },
  {
   "cell_type": "markdown",
   "metadata": {},
   "source": [
    "## 3. Запуск тестов\n",
    "\n",
    "Для запуска тестов с использованием `xUnit` в Visual Studio или через командную строку, выполните следующие шаги:\n",
    "\n",
    "1. Убедитесь, что у вас установлен `xUnit` и все необходимые пакеты:\n",
    "    - Установите пакет `xUnit` через NuGet: `Install-Package xunit`\n",
    "    - Установите пакет `xUnit.runner.visualstudio` для интеграции с Visual Studio: `Install-Package xunit.runner.visualstudio`\n",
    "\n",
    "2. Создайте проект тестирования и добавьте в него тесты.\n",
    "\n",
    "3. Запустите тесты:\n",
    "    - В Visual Studio откройте окно `Test Explorer` и запустите тесты.\n",
    "    - В командной строке используйте `dotnet test` для запуска тестов."
   ]
  },
  {
   "cell_type": "markdown",
   "metadata": {},
   "source": [
    "## 4. Дополнительные возможности xUnit\n",
    "\n",
    "Библиотека `xUnit` предоставляет множество возможностей для написания тестов. Вот некоторые из них:\n",
    "\n",
    "- Атрибут `[Theory]` для параметризованных тестов.\n",
    "- Атрибуты `[InlineData]`, `[MemberData]` и `[ClassData]` для передачи данных в теории.\n",
    "- Поддержка `Assert.Throws` для проверки исключений.\n",
    "- Интеграция с другими инструментами для непрерывной интеграции и анализа кода.\n",
    "\n",
    "Больше информации вы можете найти в [документации xUnit](https://xunit.net/)..."
   ]
  }
 ],
 "metadata": {
  "kernelspec": {
   "display_name": ".NET (C#)",
   "language": "C#",
   "name": ".net-csharp"
  },
  "language_info": {
   "file_extension": ".cs",
   "mimetype": "text/x-csharp",
   "name": "csharp",
   "pygments_lexer": "csharp",
   "version": "latest"
  },
  "polyglot_notebook": {
   "kernelInfo": {
    "defaultKernelName": "csharp",
    "items": [
     {
      "aliases": [],
      "name": "csharp"
     }
    ]
   }
  }
 },
 "nbformat": 4,
 "nbformat_minor": 2
}
